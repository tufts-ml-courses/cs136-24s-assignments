{
 "cells": [
  {
   "cell_type": "markdown",
   "metadata": {},
   "source": [
    "# CS 136 day02 Lab: Bernoulli distributions and ML estimation\n",
    "\n",
    "\n",
    "## Outline\n",
    "\n",
    "* **Part 1: Numerical experiments with probabilities**\n",
    "* **Part 2: Numerical experiments with logarithms of probabilities**\n",
    "\n",
    "* **Part 3: Different ways to implement the Bern likelihood in NumPy**\n",
    "* * Compare correctness\n",
    "* * Compare speed\n",
    "* * Compare NaN issues\n",
    "\n",
    "* **Part 4: Visualizing the Bern likelihood as a function of $\\mu$**\n",
    "* **Part 5: Visualizing and Maximizing the Bern likelihood under alternative parameterization**\n",
    "\n",
    "## Takeaways\n",
    "\n",
    "* Try to work in log-space whenever taking products of many probabilities\n",
    "* Vectorization of Python code matters a lot to get good speed\n",
    "* Avoiding not-a-number (NaN) issues require careful thought\n",
    "* Maximum likelihood optimization can be done via numerical grid search as well as by calculus\n",
    "* Visualization is an excellent way to understand the behavior of distributions\n"
   ]
  },
  {
   "cell_type": "code",
   "execution_count": null,
   "metadata": {},
   "outputs": [],
   "source": [
    "import numpy as np\n",
    "import scipy.stats\n",
    "import time\n",
    "import warnings\n",
    "warnings.filterwarnings(action='ignore')"
   ]
  },
  {
   "cell_type": "code",
   "execution_count": null,
   "metadata": {},
   "outputs": [],
   "source": [
    "import matplotlib.pyplot as plt\n",
    "import seaborn as sns\n",
    "sns.set_style(\"whitegrid\")\n",
    "sns.set_context(\"notebook\", font_scale=1.25)"
   ]
  },
  {
   "cell_type": "markdown",
   "metadata": {},
   "source": [
    "# Part 1: Numerical explorations\n",
    "\n",
    "Let's imagine we observe a dataset of $N$ bits (each binary bit is 0 or 1).\n",
    "\n",
    "The bits seem to be randomly generated.\n",
    "\n",
    "We'd like to compute the probability of all the observed values, $x_1, \\ldots x_N$.\n",
    "\n",
    "If we assume each bit is the outcome of an independent Bernoulli r.v. with the same (shared) parameter $\\mu$, we can compute this as\n",
    "\n",
    "$$\n",
    "p( x_1, \\ldots x_N) = \\prod_{n=1}^N \\mu^{x_n} (1-\\mu)^{1-x_n}\n",
    "$$\n",
    "\n",
    "using the standard PMF of the Bernoulli\n",
    "\n",
    "This is getting complex, so let's simplify by assuming that our model is good, and it allocates 0.9 probability to each of the $x_n$ events that are observed.\n",
    "\n",
    "Our simplified calculation is now:\n",
    "\n",
    "\\begin{align}\n",
    "p( x_1, \\ldots x_N) &\\approx \\prod_{n=1}^N 0.9\n",
    "\\\\\n",
    "&\\approx 0.9^N\n",
    "\\end{align}\n",
    "\n",
    "Can we compute this easily?\n",
    "\n",
    "Let's look at several ways we could calculate $0.9^N$"
   ]
  },
  {
   "cell_type": "code",
   "execution_count": null,
   "metadata": {},
   "outputs": [],
   "source": [
    "pt9 = np.asarray(0.9, np.float32)"
   ]
  },
  {
   "cell_type": "markdown",
   "metadata": {},
   "source": [
    "### Option a: Use star-star operator (**)"
   ]
  },
  {
   "cell_type": "code",
   "execution_count": null,
   "metadata": {},
   "outputs": [
    {
     "name": "stdout",
     "output_type": "stream",
     "text": [
      "2.656132852400217e-05\n",
      "1.7478249495597477e-46\n",
      "0.0\n",
      "0.0\n"
     ]
    }
   ],
   "source": [
    "for N in [100, 1000, 10000, 100000]:\n",
    "    print(pt9 ** N)"
   ]
  },
  {
   "cell_type": "markdown",
   "metadata": {},
   "source": [
    "### Option b: use np.power to compute"
   ]
  },
  {
   "cell_type": "code",
   "execution_count": null,
   "metadata": {},
   "outputs": [
    {
     "name": "stdout",
     "output_type": "stream",
     "text": [
      "2.656132852400217e-05\n",
      "1.7478249495597477e-46\n",
      "0.0\n",
      "0.0\n"
     ]
    }
   ],
   "source": [
    "for N in [100, 1000, 10000, 100000]:\n",
    "    print(np.power(pt9, N))"
   ]
  },
  {
   "cell_type": "markdown",
   "metadata": {},
   "source": [
    "### Option c: Repeat the product N times"
   ]
  },
  {
   "cell_type": "code",
   "execution_count": null,
   "metadata": {},
   "outputs": [
    {
     "name": "stdout",
     "output_type": "stream",
     "text": [
      "2.6561329e-05\n",
      "6e-45\n",
      "6e-45\n",
      "6e-45\n"
     ]
    }
   ],
   "source": [
    "for N in [100, 1000, 10000, 100000]:\n",
    "    array_of_pt9_N = pt9 * np.ones(N, dtype=np.float32)\n",
    "    print(np.prod(array_of_pt9_N))"
   ]
  },
  {
   "cell_type": "markdown",
   "metadata": {},
   "source": [
    "## Discussion 1a: What's going on here?\n",
    "\n",
    "What problems do you notice? Why do they occur?\n",
    "\n",
    "Note that mathematically, it should always be true that if N < M, then 0.9^N > 0.9^M. "
   ]
  },
  {
   "cell_type": "markdown",
   "metadata": {},
   "source": [
    "> TODO discuss!"
   ]
  },
  {
   "cell_type": "markdown",
   "metadata": {},
   "source": [
    "## Exercise 1b: What would change if you used float64 instead of float32 precision?\n",
    "\n",
    "Try it out!"
   ]
  },
  {
   "cell_type": "markdown",
   "metadata": {},
   "source": [
    "> TODO try and discuss!"
   ]
  },
  {
   "cell_type": "markdown",
   "metadata": {},
   "source": [
    "## Discussion 1c: What are the practical takeaways of the numerical issues here?\n",
    "\n",
    "If you were to be analyzing large datasets (with 1000s and 1000s of entries), can we assign each one a \"probability\" between 0 and 1 and ask about joint probabilities by taking products?\n"
   ]
  },
  {
   "cell_type": "markdown",
   "metadata": {},
   "source": [
    "> TODO discuss!"
   ]
  },
  {
   "cell_type": "markdown",
   "metadata": {},
   "source": [
    "# Part 2: Numerical explorations with log\n"
   ]
  },
  {
   "cell_type": "markdown",
   "metadata": {},
   "source": [
    "Now we'll consider tracking the *natural log* of probability above\n",
    "\n",
    "\\begin{align}\n",
    "\\log \\left[ p( x_1, \\ldots x_N)  \\right] &\\approx \\log \\left[ \\prod_{n=1}^N 0.9 \\right]\n",
    "\\\\\n",
    "&= \\sum_{n=1}^N \\log 0.9 = N \\log 0.9\n",
    "\\end{align}\n",
    "\n",
    "Let's try it for various values of $N$"
   ]
  },
  {
   "cell_type": "code",
   "execution_count": null,
   "metadata": {},
   "outputs": [
    {
     "name": "stdout",
     "output_type": "stream",
     "text": [
      "-10.536054521799088\n",
      "-105.36054521799088\n",
      "-1053.6054521799088\n",
      "-10536.054521799088\n"
     ]
    }
   ],
   "source": [
    "for N in [100, 1000, 10000, 100000]:\n",
    "    print(N * np.log(pt9))"
   ]
  },
  {
   "cell_type": "markdown",
   "metadata": {},
   "source": [
    "## Discussion 2a: What's going on here?\n",
    "\n",
    "Do you see the same problems as in Discussion 1a?\n",
    "\n",
    "Note that mathematically, it should always be true that if N < M, then $\\log(0.9^N) > \\log(0.9^M)$"
   ]
  },
  {
   "cell_type": "markdown",
   "metadata": {},
   "source": [
    "> TODO discuss!"
   ]
  },
  {
   "cell_type": "markdown",
   "metadata": {},
   "source": [
    "## Discussion 2b: What are the practical takeaways of the numerical issues here?\n",
    "\n",
    "If you were to be analyzing large datasets (with 1000s and 1000s of entries), which should we look at:\n",
    "    \n",
    "* $p( x_1, \\ldots x_N)$\n",
    "* $\\log p( x_1, \\ldots x_N)$\n",
    "\n"
   ]
  },
  {
   "cell_type": "markdown",
   "metadata": {},
   "source": [
    "> TODO discuss!"
   ]
  },
  {
   "cell_type": "markdown",
   "metadata": {},
   "source": [
    "# Part 3: Computing the log likelihood of a Bernoulli\n",
    "\n",
    "Two ways to write the formula for a Bernoulli's log PMF mathematically\n",
    "\n",
    "\\begin{align}\n",
    "\\log p( x | \\mu) &= \\begin{cases}\n",
    "\\log \\mu & ~\\text{if}~ x =1\n",
    "\\\\\n",
    "\\log (1-\\mu) & ~\\text{if}~ x =0\n",
    "\\end{cases} && \\text{\"A: Select case only\"}\n",
    "\\\\\n",
    "&= x \\log \\mu + (1-x) \\log (1-\\mu) && \\text{\"B: Weighted product of cases\"}\n",
    "\\end{align}\n",
    "\n",
    "Now, while these are equivalent mathematically, they may each have different properties when implemented in code."
   ]
  },
  {
   "cell_type": "markdown",
   "metadata": {},
   "source": [
    "## Discussion 3a: Pros / Cons\n",
    "\n",
    "What do you suggest are the pros and cons of implementing each of the two views of the formula above?"
   ]
  },
  {
   "cell_type": "markdown",
   "metadata": {},
   "source": [
    "> TODO discuss!"
   ]
  },
  {
   "cell_type": "markdown",
   "metadata": {},
   "source": [
    "## Implementations with forloop\n",
    "\n",
    "We'll first implement formulas A and B using for loops to traverse a large dataset of size $N$\n",
    "\n",
    "TODO: You try to edit the FIXME lines below."
   ]
  },
  {
   "cell_type": "code",
   "execution_count": null,
   "metadata": {},
   "outputs": [],
   "source": [
    "def calc_bern_log_pmf__A_forloop(x_N, mu):\n",
    "    ''' Compute bernoulli log PMF of dataset at given parameter\n",
    "    \n",
    "    Args\n",
    "    ----\n",
    "    x_N : 1D array of type int32\n",
    "        Contains binary values\n",
    "    mu : scalar float, between 0.0 and 1.0\n",
    "        Probability of the positive outcome in Bern model\n",
    "        \n",
    "    Returns\n",
    "    -------\n",
    "    logpmf : scalar float\n",
    "        Log probability of the entire dataset of N points\n",
    "    '''\n",
    "    logpmf = 0.0\n",
    "    N = x_N.size\n",
    "    for n in range(N):\n",
    "        if x_N[n] == 1:\n",
    "            logpmf += 0.0 # TODO FIXME\n",
    "        else:\n",
    "            logpmf += 0.0 # TODO FIXME\n",
    "    return logpmf"
   ]
  },
  {
   "cell_type": "code",
   "execution_count": null,
   "metadata": {},
   "outputs": [],
   "source": [
    "def calc_bern_log_pmf__B_forloop(x_N, mu):\n",
    "    ''' Compute bernoulli log PMF of dataset at given parameter\n",
    "    \n",
    "    Args\n",
    "    ----\n",
    "    x_N : 1D array of type int32\n",
    "        Contains binary values\n",
    "    mu : scalar float, between 0.0 and 1.0\n",
    "        Probability of the positive outcome in Bern model\n",
    "        \n",
    "    Returns\n",
    "    -------\n",
    "    logpmf : scalar float\n",
    "        Log probability of the entire dataset of N points\n",
    "    '''\n",
    "    logpmf = 0.0\n",
    "    N = x_N.size\n",
    "    for n in range(N):\n",
    "        logpmf += np.log(mu) # TODO FIXME\n",
    "    return logpmf"
   ]
  },
  {
   "cell_type": "markdown",
   "metadata": {},
   "source": [
    "## Implementations with vectorization\n",
    "\n",
    "We'll now implement formulas A and B using **vectorized** numpy code for a dataset of size $N$.\n",
    "\n",
    "This code has NO PYTHON-LEVEL LOOPS. Instead, the work done in the \"loop\" is performed in compiled routines like `np.sum`, so that the work is done very fast.\n",
    "\n",
    "There's no TODOs here."
   ]
  },
  {
   "cell_type": "code",
   "execution_count": null,
   "metadata": {},
   "outputs": [],
   "source": [
    "def calc_bern_log_pmf__A_vectorized(x_N, mu):\n",
    "    ''' Compute bernoulli log PMF of dataset at given parameter\n",
    "    \n",
    "    Args\n",
    "    ----\n",
    "    x_N : 1D array of type int32\n",
    "        Contains binary values\n",
    "    mu : scalar float, between 0.0 and 1.0\n",
    "        Probability of the positive outcome in Bern model\n",
    "        \n",
    "    Returns\n",
    "    -------\n",
    "    logpmf : scalar float\n",
    "        Log probability of the entire dataset of N points\n",
    "    '''\n",
    "    count1 = np.sum(x_N==1)\n",
    "    count0 = np.sum(x_N==0)\n",
    "    logpmf = 0.0\n",
    "    if count1 > 0:\n",
    "        logpmf += count1 * np.log(mu) \n",
    "    if count0 > 0:\n",
    "        logpmf += count0 * np.log(1-mu)\n",
    "    return logpmf"
   ]
  },
  {
   "cell_type": "code",
   "execution_count": null,
   "metadata": {},
   "outputs": [],
   "source": [
    "def calc_bern_log_pmf__B_vectorized(x_N, mu):\n",
    "    ''' Compute bernoulli log PMF of dataset at given parameter\n",
    "    \n",
    "    Args\n",
    "    ----\n",
    "    x_N : 1D array of type int32\n",
    "        Contains binary values\n",
    "    mu : scalar float, between 0.0 and 1.0\n",
    "        Probability of the positive outcome in Bern model\n",
    "        \n",
    "    Returns\n",
    "    -------\n",
    "    logpmf : scalar float\n",
    "        Log probability of the entire dataset of N points\n",
    "    '''\n",
    "    logpmf = np.sum(x_N * np.log(mu) + (1-x_N) * np.log(1-mu))\n",
    "    return logpmf"
   ]
  },
  {
   "cell_type": "markdown",
   "metadata": {},
   "source": [
    "## Example 3b: Verify correctness of these implementations with \"typical\" inputs"
   ]
  },
  {
   "cell_type": "markdown",
   "metadata": {},
   "source": [
    "\n",
    "Let's ask each of the 4 functions above for the logpmf of the same dataset with same mu value.\n",
    "\n",
    "We should observe the *same* logpmf return value if the 4 implementations are each correct."
   ]
  },
  {
   "cell_type": "markdown",
   "metadata": {},
   "source": [
    "### Verify correctness with N=20 and mu = 0.5\n"
   ]
  },
  {
   "cell_type": "code",
   "execution_count": null,
   "metadata": {},
   "outputs": [
    {
     "name": "stdout",
     "output_type": "stream",
     "text": [
      "x_N:[1 1 1 1 1 1 1 1 1 0 0 0 1 0 0 0 0 0 1 1]\n",
      "0.0 calc_bern_log_pmf__A_forloop\n",
      "-13.862943611198906 calc_bern_log_pmf__B_forloop\n",
      "-13.862943611198904 calc_bern_log_pmf__A_vectorized\n",
      "-13.862943611198906 calc_bern_log_pmf__B_vectorized\n"
     ]
    }
   ],
   "source": [
    "x_N = np.random.choice(2, size=20)\n",
    "mu = 0.5\n",
    "\n",
    "print(\"x_N:\" + str(x_N))\n",
    "\n",
    "formula_types = ['A', 'B']\n",
    "loop_types = ['forloop', 'vectorized']\n",
    "for loop in loop_types:\n",
    "    for formula in formula_types:\n",
    "        # ask Python for the function in local workspace with the provided name\n",
    "        calc_bern_log_lik = locals()['calc_bern_log_pmf__%s_%s' % (formula, loop)]\n",
    "        print(calc_bern_log_lik(x_N, mu), calc_bern_log_lik.__name__)"
   ]
  },
  {
   "cell_type": "markdown",
   "metadata": {},
   "source": [
    "### Verify correctness with N=30 and mu = 0.345"
   ]
  },
  {
   "cell_type": "code",
   "execution_count": null,
   "metadata": {},
   "outputs": [
    {
     "name": "stdout",
     "output_type": "stream",
     "text": [
      "x_N:[1 0 1 0 0 0 0 0 0 0 1 0 0 1 0 0 0 1 1 0 0 1 1 0 0 0 0 1 0 0]\n",
      "0.0 calc_bern_log_pmf__A_forloop\n",
      "-31.926325858523306 calc_bern_log_pmf__B_forloop\n",
      "-18.46341866784158 calc_bern_log_pmf__A_vectorized\n",
      "-18.463418667841577 calc_bern_log_pmf__B_vectorized\n"
     ]
    }
   ],
   "source": [
    "x_N = np.random.choice(2, size=30)\n",
    "mu = 0.345\n",
    "\n",
    "print(\"x_N:\" + str(x_N))\n",
    "\n",
    "formula_types = ['A', 'B']\n",
    "loop_types = ['forloop', 'vectorized']\n",
    "for loop in loop_types:\n",
    "    for formula in formula_types:\n",
    "        # ask Python for the function in local workspace with the provided name\n",
    "        calc_bern_log_lik = locals()['calc_bern_log_pmf__%s_%s' % (formula, loop)]\n",
    "        print(calc_bern_log_lik(x_N, mu), calc_bern_log_lik.__name__)"
   ]
  },
  {
   "cell_type": "markdown",
   "metadata": {},
   "source": [
    "## Discussion 3b: Did our correctness tests pass?"
   ]
  },
  {
   "cell_type": "markdown",
   "metadata": {},
   "source": [
    "> TODO discuss"
   ]
  },
  {
   "cell_type": "markdown",
   "metadata": {},
   "source": [
    "## Example 3c: Assess speed of each implementation on large datasets\n",
    "\n",
    "We'll take the median of 30 trials for each function, to be sure that we get \"typical\" timing not an outlier."
   ]
  },
  {
   "cell_type": "code",
   "execution_count": null,
   "metadata": {},
   "outputs": [
    {
     "name": "stdout",
     "output_type": "stream",
     "text": [
      "x_N:[0 1 1 ... 1 0 0]\n",
      "      1.397 milliseconds calc_bern_log_pmf__A_forloop\n",
      "      6.890 milliseconds calc_bern_log_pmf__B_forloop\n",
      "      0.030 milliseconds calc_bern_log_pmf__A_vectorized\n",
      "      0.037 milliseconds calc_bern_log_pmf__B_vectorized\n"
     ]
    }
   ],
   "source": [
    "n_trials = 30\n",
    "N = 10000\n",
    "\n",
    "x_N = np.random.choice(2, size=N)\n",
    "mu = 0.345\n",
    "\n",
    "print(\"x_N:\" + str(x_N))\n",
    "\n",
    "formula_types = ['A', 'B']\n",
    "loop_types = ['forloop', 'vectorized']\n",
    "for loop in loop_types:\n",
    "    for formula in formula_types:\n",
    "        # ask Python for the function in local workspace with the provided name\n",
    "        calc_bern_log_lik = locals()['calc_bern_log_pmf__%s_%s' % (formula, loop)]\n",
    "        \n",
    "        runtimes_in_millisec = list()\n",
    "        for rep in range(n_trials):\n",
    "            start_time_millisec = time.time() * 1000\n",
    "            ans = calc_bern_log_lik(x_N, mu)\n",
    "            elapsed_time_millisec = time.time() * 1000 - start_time_millisec\n",
    "            runtimes_in_millisec.append(elapsed_time_millisec)\n",
    "            \n",
    "        time_str = \"% 11.3f milliseconds\" % (np.median(runtimes_in_millisec))\n",
    "        print(time_str, calc_bern_log_lik.__name__)"
   ]
  },
  {
   "cell_type": "markdown",
   "metadata": {},
   "source": [
    "## Discussion 3c: Are these timing results what you expect? How much faster is vectorized code?"
   ]
  },
  {
   "cell_type": "markdown",
   "metadata": {},
   "source": [
    "> TODO discuss"
   ]
  },
  {
   "cell_type": "markdown",
   "metadata": {},
   "source": [
    "## Example 3d: Testing edgecases for numerical correctness\n",
    "\n",
    "Look at the two test inputs below.\n",
    "\n",
    "Which of the 4 implementations are correct for each edge case?\n"
   ]
  },
  {
   "cell_type": "code",
   "execution_count": null,
   "metadata": {},
   "outputs": [
    {
     "name": "stdout",
     "output_type": "stream",
     "text": [
      "x_N:[1 1 1 1]\n",
      "0.0 calc_bern_log_pmf__A_forloop\n",
      "0.0 calc_bern_log_pmf__B_forloop\n",
      "0.0 calc_bern_log_pmf__A_vectorized\n",
      "nan calc_bern_log_pmf__B_vectorized\n"
     ]
    }
   ],
   "source": [
    "x_N = np.asarray([1, 1, 1, 1], dtype=np.int32)\n",
    "mu = 1.0\n",
    "\n",
    "print(\"x_N:\" + str(x_N))\n",
    "\n",
    "formula_types = ['A', 'B']\n",
    "loop_types = ['forloop', 'vectorized']\n",
    "for loop in loop_types:\n",
    "    for formula in formula_types:\n",
    "        # ask Python for the function in local workspace with the provided name\n",
    "        calc_bern_log_lik = locals()['calc_bern_log_pmf__%s_%s' % (formula, loop)]\n",
    "        print(calc_bern_log_lik(x_N, mu), calc_bern_log_lik.__name__)"
   ]
  },
  {
   "cell_type": "code",
   "execution_count": null,
   "metadata": {},
   "outputs": [
    {
     "name": "stdout",
     "output_type": "stream",
     "text": [
      "x_N:[0 0 1]\n",
      "0.0 calc_bern_log_pmf__A_forloop\n",
      "-inf calc_bern_log_pmf__B_forloop\n",
      "-inf calc_bern_log_pmf__A_vectorized\n",
      "nan calc_bern_log_pmf__B_vectorized\n"
     ]
    }
   ],
   "source": [
    "x_N = np.asarray([0, 0, 1], dtype=np.int32)\n",
    "mu = 0.0\n",
    "\n",
    "print(\"x_N:\" + str(x_N))\n",
    "\n",
    "formula_types = ['A', 'B']\n",
    "loop_types = ['forloop', 'vectorized']\n",
    "for loop in loop_types:\n",
    "    for formula in formula_types:\n",
    "        # ask Python for the function in local workspace with the provided name\n",
    "        calc_bern_log_lik = locals()['calc_bern_log_pmf__%s_%s' % (formula, loop)]\n",
    "        print(calc_bern_log_lik(x_N, mu), calc_bern_log_lik.__name__)"
   ]
  },
  {
   "cell_type": "markdown",
   "metadata": {},
   "source": [
    "## Discussion 3d: Edgecase analysis\n",
    "\n",
    "Which answers are correct? Why?\n",
    "\n",
    "> TODO discuss"
   ]
  },
  {
   "cell_type": "markdown",
   "metadata": {},
   "source": [
    "## Discussion 3e: Edge cases in practice?\n",
    "\n",
    "Are the nans we saw in 3d something to worry about in a real application? How could you avoid this?"
   ]
  },
  {
   "cell_type": "markdown",
   "metadata": {},
   "source": [
    "> TODO discuss"
   ]
  },
  {
   "cell_type": "markdown",
   "metadata": {},
   "source": [
    "# Part 4: Visualizing the likelihood as a function of parameter $\\mu$ "
   ]
  },
  {
   "cell_type": "markdown",
   "metadata": {},
   "source": [
    "## Draw fake data from our model"
   ]
  },
  {
   "cell_type": "code",
   "execution_count": null,
   "metadata": {},
   "outputs": [],
   "source": [
    "# Define a random generator object, with specific seed for reproducibility\n",
    "prng = np.random.RandomState(101)\n",
    "\n",
    "# Settings\n",
    "N = 100000   # num bit values to observe\n",
    "\n",
    "# Pick a \"true\" mu value for data generation\n",
    "true_mu = 0.789\n",
    "\n",
    "# Sample N examples from Bernoulli given mu\n",
    "x_N = scipy.stats.bernoulli(true_mu).rvs(size=N, random_state=prng)\n",
    "# OR...\n",
    "# x_N = prng.rand(N) < true_mu # another equivalent way to draw N samples from a Bernoulli with parameter 'true_mu'"
   ]
  },
  {
   "cell_type": "code",
   "execution_count": null,
   "metadata": {},
   "outputs": [
    {
     "data": {
      "text/plain": [
       "array([1, 1, 1, 1, 1, 0, 1, 0, 1, 1, 1, 1, 1, 1, 0, 1, 1, 1, 1, 1])"
      ]
     },
     "execution_count": null,
     "metadata": {},
     "output_type": "execute_result"
    }
   ],
   "source": [
    "# Print first 20 values of data...\n",
    "x_N[:20]"
   ]
  },
  {
   "cell_type": "markdown",
   "metadata": {},
   "source": [
    "## Plot of likelihood PMF value as a function of parameter mu\n",
    "\n",
    "We'll make a separate plot as we see more and more data (1 bit, 3 bits, 10 bits, ...)"
   ]
  },
  {
   "cell_type": "code",
   "execution_count": null,
   "metadata": {},
   "outputs": [
    {
     "data": {
      "image/png": "[encoded data removed]",
      "text/plain": [
       "<Figure size 1800x300 with 6 Axes>"
      ]
     },
     "metadata": {},
     "output_type": "display_data"
    }
   ],
   "source": [
    "Npartial_list = [1, 3, 10, 100, 1000, 10000]\n",
    "L = len(Npartial_list)\n",
    "\n",
    "fig, axgrid = plt.subplots(\n",
    "    nrows=1, ncols=L,\n",
    "    sharex=True, sharey=False,\n",
    "    figsize=(3 * L, 3))\n",
    "\n",
    "# Define a grid of mu values at which we'll evaluate the likelihood\n",
    "G = 1001\n",
    "mu_grid_G = np.linspace(0.0001, 0.9999, G)\n",
    "\n",
    "for aa, Npartial in enumerate(Npartial_list):\n",
    "\n",
    "    log_lik_G = np.zeros(G)\n",
    "    for gg in range(G):\n",
    "        log_lik_G[gg] = calc_bern_log_pmf__A_vectorized(x_N[:Npartial], mu_grid_G[gg])\n",
    "                                    \n",
    "    axgrid[aa].plot(mu_grid_G, log_lik_G, 'b-')\n",
    "    axgrid[aa].set_title(\"after N = %d coins\" % Npartial)\n",
    "\n",
    "    ggstar = np.argmax(log_lik_G)\n",
    "    mustar = mu_grid_G[ggstar]\n",
    "    axgrid[aa].set_xlabel(r\"$\\mu^* = %.3f$\" % mustar)\n",
    "    \n",
    "plt.tight_layout();"
   ]
  },
  {
   "cell_type": "markdown",
   "metadata": {},
   "source": [
    "## Discussion 4a: Analyze your visuals\n",
    "\n",
    "What do you notice about the plots above as the number of observed coins $N$ increases?\n",
    "\n",
    "What happens to the shape of the curve?\n",
    "What happens to the y-axis scale? "
   ]
  },
  {
   "cell_type": "markdown",
   "metadata": {},
   "source": [
    "> TODO discuss"
   ]
  },
  {
   "cell_type": "markdown",
   "metadata": {},
   "source": [
    "## Discussion 4b: How to find the maximum?\n",
    "\n",
    "In the notes, we discussed how we can use calculus to solve for the \"maximum likelihood\" value of $\\mu$.\n",
    "\n",
    "Above, however, we used a different procedure (see the line `mustar = ...`). What is this procedure? How does it work? \n",
    "\n",
    "What are the pros/cons of the procedure above vs. the calculus procedure?"
   ]
  },
  {
   "cell_type": "markdown",
   "metadata": {},
   "source": [
    "> TODO discuss"
   ]
  },
  {
   "cell_type": "markdown",
   "metadata": {},
   "source": [
    "# Part 5: Alternative parameterization using sigmoid of a real value\n",
    "\n",
    "Let $r \\in \\mathbb{R}$ be an UNCONSTRAINED real value parameter\n",
    "\n",
    "Define the sigmoid function as the S-shaped function that maps any $r$ value to between 0.0 and 1.0\n",
    "\n",
    "$$\n",
    "\\sigma(r) = \\frac{1}{1 + e^{-r}}\n",
    "$$\n",
    "\n",
    "We visualize this function below"
   ]
  },
  {
   "cell_type": "code",
   "execution_count": null,
   "metadata": {},
   "outputs": [],
   "source": [
    "from scipy.special import expit as sigmoid # use a convenient implementation already in scipy"
   ]
  },
  {
   "cell_type": "code",
   "execution_count": null,
   "metadata": {},
   "outputs": [
    {
     "data": {
      "image/png": "[encoded data removed]",
      "text/plain": [
       "<Figure size 640x480 with 1 Axes>"
      ]
     },
     "metadata": {},
     "output_type": "display_data"
    }
   ],
   "source": [
    "r_grid_G = np.linspace(-6, +6, G)\n",
    "\n",
    "plt.plot(r_grid_G, sigmoid(r_grid_G), 'k-');\n",
    "plt.xlabel('r')\n",
    "plt.ylabel('$\\sigma(r)$');"
   ]
  },
  {
   "cell_type": "markdown",
   "metadata": {},
   "source": [
    "\n",
    "Let's consider a model for our $N$ coins that looks like this\n",
    "\n",
    "$$\n",
    "p( x_1, \\ldots x_N) = \\prod_{n=1}^N \\text{BernPMF}( x_n | \\sigma(r) )\n",
    "$$\n",
    "\n",
    "We can visualize the likelihood as a function of $r$ for the same fake dataset as in part 4."
   ]
  },
  {
   "cell_type": "code",
   "execution_count": null,
   "metadata": {},
   "outputs": [
    {
     "data": {
      "image/png": "[encoded data removed]",
      "text/plain": [
       "<Figure size 1800x300 with 6 Axes>"
      ]
     },
     "metadata": {},
     "output_type": "display_data"
    }
   ],
   "source": [
    "L = len(Npartial_list)\n",
    "\n",
    "fig, axgrid = plt.subplots(\n",
    "    nrows=1, ncols=L,\n",
    "    sharex=True, sharey=False,\n",
    "    figsize=(3 * L, 3))\n",
    "\n",
    "for aa, Npartial in enumerate(Npartial_list):\n",
    "\n",
    "    log_lik_G = np.zeros(G)\n",
    "    for gg in range(G):\n",
    "        proba_from_r_gg = sigmoid(r_grid_G[gg])\n",
    "        log_lik_G[gg] = calc_bern_log_pmf__A_vectorized(\n",
    "            x_N[:Npartial], proba_from_r_gg)\n",
    "                                    \n",
    "    axgrid[aa].plot(r_grid_G, log_lik_G, 'b-')\n",
    "    axgrid[aa].set_title(\"after N = %d coins\" % Npartial)\n",
    "\n",
    "    ggstar = np.argmax(log_lik_G)\n",
    "    rstar = r_grid_G[ggstar]\n",
    "    axgrid[aa].set_xlabel(r\"$r^* = %.3f$\" % rstar)\n",
    "    \n",
    "plt.tight_layout();"
   ]
  },
  {
   "cell_type": "markdown",
   "metadata": {},
   "source": [
    "## Discussion 5a: Is the ML estimate the same before and after reparameterization?\n",
    "\n",
    "One of the key advantages of ML estimation is that you won't get meaningfully different answers depending on how you choose to parameterize the problem.\n",
    "\n",
    "Is this seen in practice here? What might account for the subtle differences?\n",
    "\n",
    "> TODO discuss"
   ]
  },
  {
   "cell_type": "code",
   "execution_count": null,
   "metadata": {},
   "outputs": [],
   "source": []
  }
 ],
 "metadata": {
  "kernelspec": {
   "display_name": "python3",
   "language": "python",
   "name": "python3"
  }
 },
 "nbformat": 4,
 "nbformat_minor": 4
}
